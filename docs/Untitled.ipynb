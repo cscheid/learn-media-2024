{
 "cells": [
  {
   "cell_type": "raw",
   "id": "2355dd8f",
   "metadata": {},
   "source": [
    "---\n",
    "title: Penguins!\n",
    "author: Carlos Scheidegger\n",
    "---"
   ]
  },
  {
   "cell_type": "code",
   "execution_count": null,
   "id": "0a2f83db",
   "metadata": {},
   "outputs": [],
   "source": [
    "#| label: fig-1\n",
    "#| echo: false\n",
    "#| fig-cap: A scatterplot of penguin bill length and depth\n",
    "import altair as alt\n",
    "import pandas as pd\n",
    "\n",
    "penguins = pd.read_csv(\"https://pos.it/palmer-penguins-github-csv\")\n",
    "alt.Chart(penguins).mark_circle(size=60).encode(\n",
    "    alt.X('bill_length_mm',\n",
    "        scale=alt.Scale(zero=False)\n",
    "    ),\n",
    "    alt.Y('bill_depth_mm',\n",
    "        scale=alt.Scale(zero=False)\n",
    "    ),\n",
    "    color = alt.Color('species', scale = alt.Scale(domain = ['Adelie', 'Chinstrap', 'Gentoo'],\n",
    "                  range = [\"#FF8C00\", \"#A020F0\", \"#008B8B\"])),\n",
    "    tooltip=['species', 'sex', 'island']\n",
    ")"
   ]
  }
 ],
 "metadata": {
  "kernelspec": {
   "display_name": "Python 3 (ipykernel)",
   "language": "python",
   "name": "python3"
  },
  "language_info": {
   "codemirror_mode": {
    "name": "ipython",
    "version": 3
   },
   "file_extension": ".py",
   "mimetype": "text/x-python",
   "name": "python",
   "nbconvert_exporter": "python",
   "pygments_lexer": "ipython3",
   "version": "3.10.13"
  }
 },
 "nbformat": 4,
 "nbformat_minor": 5
}
